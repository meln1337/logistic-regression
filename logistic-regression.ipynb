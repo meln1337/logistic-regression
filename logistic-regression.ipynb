{
 "cells": [
  {
   "cell_type": "markdown",
   "metadata": {},
   "source": [
    "A sigmoid function is a mathematical function having a characteristic \"S\"-shaped curve or sigmoid curve. \n",
    "A common example of a sigmoid function is the logistic function shown in the first figure and defined \n",
    "by the formula\n",
    "\n",
    "<img src=\"https://wikimedia.org/api/rest_v1/media/math/render/svg/9537e778e229470d85a68ee0b099c08298a1a3f6\" />"
   ]
  },
  {
   "cell_type": "code",
   "execution_count": 1,
   "metadata": {},
   "outputs": [],
   "source": [
    "import numpy as np\n",
    "import matplotlib.pyplot as plt"
   ]
  },
  {
   "cell_type": "code",
   "execution_count": 33,
   "metadata": {},
   "outputs": [],
   "source": [
    "# Defining a sigmoid function\n",
    "def sigmoid(x):\n",
    "    return 1 / (1 + np.exp(-x))"
   ]
  },
  {
   "cell_type": "code",
   "execution_count": 3,
   "metadata": {},
   "outputs": [
    {
     "data": {
      "text/plain": [
       "[<matplotlib.lines.Line2D at 0x7f012ed9c400>]"
      ]
     },
     "execution_count": 3,
     "metadata": {},
     "output_type": "execute_result"
    },
    {
     "data": {
      "image/png": "[encoded data removed]",
      "text/plain": [
       "<Figure size 432x288 with 1 Axes>"
      ]
     },
     "metadata": {
      "needs_background": "light"
     },
     "output_type": "display_data"
    }
   ],
   "source": [
    "# Definding the boundaries of the graphic\n",
    "x = np.arange(-15, 16)\n",
    "y = np.arange(-15, 16)\n",
    "\n",
    "# We are sigmoiding y to show the graphic of a sigmoid function\n",
    "plt.grid(True)\n",
    "plt.plot(x, sigmoid(y))"
   ]
  },
  {
   "cell_type": "code",
   "execution_count": 4,
   "metadata": {},
   "outputs": [
    {
     "name": "stdout",
     "output_type": "stream",
     "text": [
      "[3.05902227e-07 8.31528028e-07 2.26032430e-06 6.14417460e-06\n",
      " 1.67014218e-05 4.53978687e-05 1.23394576e-04 3.35350130e-04\n",
      " 9.11051194e-04 2.47262316e-03 6.69285092e-03 1.79862100e-02\n",
      " 4.74258732e-02 1.19202922e-01 2.68941421e-01 5.00000000e-01\n",
      " 7.31058579e-01 8.80797078e-01 9.52574127e-01 9.82013790e-01\n",
      " 9.93307149e-01 9.97527377e-01 9.99088949e-01 9.99664650e-01\n",
      " 9.99876605e-01 9.99954602e-01 9.99983299e-01 9.99993856e-01\n",
      " 9.99997740e-01 9.99999168e-01 9.99999694e-01]\n"
     ]
    }
   ],
   "source": [
    "# Showing how sigmoid changes the value of y\n",
    "print(sigmoid(y))"
   ]
  }
 ],
 "metadata": {
  "kernelspec": {
   "display_name": "Python 3",
   "language": "python",
   "name": "python3"
  },
  "language_info": {
   "codemirror_mode": {
    "name": "ipython",
    "version": 3
   },
   "file_extension": ".py",
   "mimetype": "text/x-python",
   "name": "python",
   "nbconvert_exporter": "python",
   "pygments_lexer": "ipython3",
   "version": "3.8.3"
  }
 },
 "nbformat": 4,
 "nbformat_minor": 4
}
